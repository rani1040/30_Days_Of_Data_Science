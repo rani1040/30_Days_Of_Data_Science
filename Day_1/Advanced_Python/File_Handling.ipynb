{
 "cells": [
  {
   "cell_type": "markdown",
   "id": "db8d3f1b",
   "metadata": {},
   "source": [
    "Python is a popular interpreted and dynamically typed programming language for building web services, desktop apps, automation scripts, and machine learning projects. Programmers often have to access the operating system’s file system when they work with Python-based software projects.\n",
    "\n",
    "For example, we use text files as inputs, write text files as outputs, and process binary files often. Like any other popular, general-purpose programming language, Python also offers cross-platform file handling features. Python provides file handling features via several inbuilt functions and standard modules.\n",
    "\n",
    "In this article, I will explain everything you need to know about Python file handling, including:\n",
    "\n",
    "* Reading files\n",
    "* Writing files\n",
    "* Reading file attributes\n",
    "* Creating new Python directories\n",
    "* Reading Python directory contents\n",
    "* Removing files or directories\n",
    "* Performing file searches\n",
    "* Processing binary files\n",
    "* Creating and extracting data from Python archives\n",
    "* Copying and moving files\n",
    "* Best practices"
   ]
  },
  {
   "cell_type": "markdown",
   "id": "6f1fec47",
   "metadata": {},
   "source": [
    "# Write in File "
   ]
  },
  {
   "cell_type": "code",
   "execution_count": 1,
   "id": "ad8124a7",
   "metadata": {},
   "outputs": [],
   "source": [
    "file = open(\"demofile.txt\",\"w\")\n",
    "file.write(\" Hello this file is created for learning purpose of file handling.\")\n",
    "file.close() # this will clean up resource after writing in file "
   ]
  },
  {
   "cell_type": "markdown",
   "id": "777b8aff",
   "metadata": {},
   "source": [
    "# Read File"
   ]
  },
  {
   "cell_type": "code",
   "execution_count": 2,
   "id": "9a0d4975",
   "metadata": {},
   "outputs": [
    {
     "name": "stdout",
     "output_type": "stream",
     "text": [
      " Hello this file is created for learning purpose of file handling.\n"
     ]
    }
   ],
   "source": [
    "file = open(\"demofile.txt\",\"r\")\n",
    "print(file.read())"
   ]
  },
  {
   "cell_type": "markdown",
   "id": "486e2490",
   "metadata": {},
   "source": [
    "## Read bytes"
   ]
  },
  {
   "cell_type": "code",
   "execution_count": 3,
   "id": "2290c0cc",
   "metadata": {},
   "outputs": [
    {
     "name": "stdout",
     "output_type": "stream",
     "text": [
      " Hello this \n",
      "file is \n"
     ]
    }
   ],
   "source": [
    "file = open(\"demofile.txt\",\"r\")\n",
    "print(file.read(12))\n",
    "print(file.read(8)) # we are specifying byte size"
   ]
  },
  {
   "cell_type": "markdown",
   "id": "cac3e5b0",
   "metadata": {},
   "source": [
    "## Seek "
   ]
  },
  {
   "cell_type": "code",
   "execution_count": 4,
   "id": "1ea0e197",
   "metadata": {},
   "outputs": [
    {
     "name": "stdout",
     "output_type": "stream",
     "text": [
      " Hello this file is created \n",
      " Hello this file is created \n"
     ]
    }
   ],
   "source": [
    "file = open(\"demofile.txt\",\"r\")\n",
    "print(file.read(28))\n",
    "file.seek(0) # this will reset cursor back to the  begining of the file\n",
    "print(file.read(28))"
   ]
  },
  {
   "cell_type": "markdown",
   "id": "b1613a20",
   "metadata": {},
   "source": [
    "# Append"
   ]
  },
  {
   "cell_type": "code",
   "execution_count": 5,
   "id": "547d7524",
   "metadata": {},
   "outputs": [
    {
     "data": {
      "text/plain": [
       "24"
      ]
     },
     "execution_count": 5,
     "metadata": {},
     "output_type": "execute_result"
    }
   ],
   "source": [
    "file = open(\"demofile.txt\",\"a\")\n",
    "file.write(\"my name is rani rathore.\") # return number of character you have appended\n"
   ]
  },
  {
   "cell_type": "markdown",
   "id": "3d537030",
   "metadata": {},
   "source": [
    "The Python interpreter will return an EOL error if the quotation mark at the end of the string literal is missing. We can easily fix this problem by making sure the end quotation marks are in place"
   ]
  },
  {
   "cell_type": "markdown",
   "id": "21640830",
   "metadata": {},
   "source": [
    "# writelines"
   ]
  },
  {
   "cell_type": "code",
   "execution_count": 42,
   "id": "cb2d167d",
   "metadata": {},
   "outputs": [],
   "source": [
    "file = open(\"demofile.txt\",\"a\")\n",
    "file.writelines(\"\\n my name is rani rathore.\\n my father name is dilip singh rathore. \\n i am good girl, with very beautifull heart. \\n i am in love with coding.\")\n",
    " "
   ]
  },
  {
   "cell_type": "markdown",
   "id": "da4419ea",
   "metadata": {},
   "source": [
    "# enumerate"
   ]
  },
  {
   "cell_type": "code",
   "execution_count": 8,
   "id": "5523698f",
   "metadata": {},
   "outputs": [
    {
     "name": "stdout",
     "output_type": "stream",
     "text": [
      "0  Hello this file is created for learning purpose of file handling.my name is rani rathore.\n",
      "\n",
      "1  my name is rani rathore.\n",
      "\n",
      "2  my father name is dilip singh rathore. \n",
      "\n",
      "3  i am good girl, with very beautifull heart. \n",
      "\n",
      "4  i am in love with coding.\n"
     ]
    }
   ],
   "source": [
    "file = open(\"demofile.txt\",\"r\")\n",
    "for i, line in enumerate(file.readlines()):\n",
    "    print(i, line)"
   ]
  },
  {
   "cell_type": "markdown",
   "id": "4ceea0a7",
   "metadata": {},
   "source": [
    "# Reading File attributes in python :\n",
    "reading meta data\n",
    "\n",
    "we used st_size to get the file size, at_atime to get the last file accessed timestamp, and st_mtime to get the last modified timestamp. "
   ]
  },
  {
   "cell_type": "code",
   "execution_count": 9,
   "id": "1d6e7a23",
   "metadata": {},
   "outputs": [],
   "source": [
    "import os "
   ]
  },
  {
   "cell_type": "code",
   "execution_count": 13,
   "id": "0e582b3b",
   "metadata": {},
   "outputs": [
    {
     "name": "stdout",
     "output_type": "stream",
     "text": [
      "<class 'int'>\n"
     ]
    }
   ],
   "source": [
    "stat = os.stat(\"demofile.txt\")\n",
    "print(type(stat.st_size))"
   ]
  },
  {
   "cell_type": "code",
   "execution_count": 15,
   "id": "db4260cc",
   "metadata": {},
   "outputs": [
    {
     "name": "stdout",
     "output_type": "stream",
     "text": [
      "234\n"
     ]
    }
   ],
   "source": [
    "size = os.path.getsize(\"demofile.txt\")\n",
    "print(size)"
   ]
  },
  {
   "cell_type": "markdown",
   "id": "79903cf1",
   "metadata": {},
   "source": [
    "# creating directory in python"
   ]
  },
  {
   "cell_type": "code",
   "execution_count": 59,
   "id": "a939b371",
   "metadata": {},
   "outputs": [],
   "source": [
    "os.mkdir(\"MyFolder\") # this will create new folder in current directory "
   ]
  },
  {
   "cell_type": "code",
   "execution_count": 60,
   "id": "160807a0",
   "metadata": {},
   "outputs": [],
   "source": [
    "# with the above code we cannot create multiple directory at once it will fails for that we need to do this :"
   ]
  },
  {
   "cell_type": "code",
   "execution_count": 61,
   "id": "d99a1794",
   "metadata": {},
   "outputs": [],
   "source": [
    "os.makedirs(\"MyFolder/sampleDirectory\")"
   ]
  },
  {
   "cell_type": "markdown",
   "id": "4a12482a",
   "metadata": {},
   "source": [
    "# Reading Python directory Contents"
   ]
  },
  {
   "cell_type": "code",
   "execution_count": 20,
   "id": "538c46c8",
   "metadata": {},
   "outputs": [
    {
     "data": {
      "text/plain": [
       "'C:\\\\Users\\\\rani\\\\30_Days_of_Data_Science'"
      ]
     },
     "execution_count": 20,
     "metadata": {},
     "output_type": "execute_result"
    }
   ],
   "source": [
    "currdir = os.getcwd() # current working directory\n",
    "currdir"
   ]
  },
  {
   "cell_type": "code",
   "execution_count": 29,
   "id": "d1b5e8a2",
   "metadata": {},
   "outputs": [
    {
     "data": {
      "text/plain": [
       "[' Time_Module.ipynb',\n",
       " '.ipynb_checkpoints',\n",
       " 'demofile.txt',\n",
       " 'File_Handling.ipynb',\n",
       " 'MyFolder']"
      ]
     },
     "execution_count": 29,
     "metadata": {},
     "output_type": "execute_result"
    }
   ],
   "source": [
    "entries = os.listdir(currdir)\n",
    "entries"
   ]
  },
  {
   "cell_type": "code",
   "execution_count": 30,
   "id": "9b689008",
   "metadata": {},
   "outputs": [
    {
     "name": "stdout",
     "output_type": "stream",
     "text": [
      " Time_Module.ipynb\n",
      ".ipynb_checkpoints\n",
      "demofile.txt\n",
      "File_Handling.ipynb\n",
      "MyFolder\n"
     ]
    }
   ],
   "source": [
    "for i in entries:\n",
    "    print(i)"
   ]
  },
  {
   "cell_type": "code",
   "execution_count": 32,
   "id": "bbea640f",
   "metadata": {
    "scrolled": true
   },
   "outputs": [
    {
     "name": "stdout",
     "output_type": "stream",
     "text": [
      ".\n",
      "____________________________________\n",
      ".ipynb_checkpoints\n",
      "MyFolder\n",
      " Time_Module.ipynb\n",
      "demofile.txt\n",
      "File_Handling.ipynb\n",
      ".ipynb_checkpoints\n",
      "____________________________________\n",
      " Time_Module-checkpoint.ipynb\n",
      "File_Handling-checkpoint.ipynb\n",
      "MyFolder\n",
      "____________________________________\n",
      "sampleDirectory\n",
      "MyFolder\\sampleDirectory\n",
      "____________________________________\n"
     ]
    }
   ],
   "source": [
    "for root, sub_dirs, files in os.walk(os.getcwd()):\n",
    "    relative_root = os.path.relpath(root)\n",
    "    print(relative_root)\n",
    "    print(\"____________________________________\")\n",
    "    for j in sub_dirs + files:\n",
    "        print(j)"
   ]
  },
  {
   "cell_type": "markdown",
   "id": "c86f0de2",
   "metadata": {},
   "source": [
    "# Removing Files or Directories in Python"
   ]
  },
  {
   "cell_type": "code",
   "execution_count": null,
   "id": "c3b5b863",
   "metadata": {},
   "outputs": [],
   "source": [
    "import os\n",
    "\n",
    "file_to_remove = \"demofile.txt\"\n",
    "\n",
    "if os.path.exists(file_to_remove):\n",
    "    os.remove(file_to_remove)\n",
    "else:\n",
    "    print(\"no such file\")"
   ]
  },
  {
   "cell_type": "code",
   "execution_count": 45,
   "id": "70988349",
   "metadata": {},
   "outputs": [
    {
     "name": "stdout",
     "output_type": "stream",
     "text": [
      "removes\n"
     ]
    }
   ],
   "source": [
    "import os\n",
    "\n",
    "dir_to_remove = \"MyFolder/\"\n",
    "\n",
    "if os.path.exists(dir_to_remove):\n",
    "    os.rmdir(dir_to_remove)\n",
    "    \n",
    "else:\n",
    "    print(\"removes\")"
   ]
  },
  {
   "cell_type": "code",
   "execution_count": 39,
   "id": "51274bbe",
   "metadata": {},
   "outputs": [],
   "source": [
    "import os, shutil\n",
    "\n",
    "dir_to_remove = \"MyFolder/\"\n",
    "\n",
    "if os.path.exists(dir_to_remove):\n",
    "    shutil.rmtree(dir_to_remove) # Recursively remove all entries\n",
    "else:\n",
    "    print(\"%s doesn't exist!\" % dir_to_remove)"
   ]
  },
  {
   "cell_type": "markdown",
   "id": "e1f6b919",
   "metadata": {},
   "source": [
    "# Performing File Searches in Python"
   ]
  },
  {
   "cell_type": "markdown",
   "id": "1d9ab50d",
   "metadata": {},
   "source": [
    "* Finding all entries with the os.listdir function and checking each entry with an if condition inside a for loop\n",
    "* Finding all entries recursively with the os.walktree function and validating each entry with an if condition inside a for loop.\n",
    "* Querying all entries with the glob.glob function and obtaining only entries you need\n",
    "\n",
    "\n",
    "Overall, the third approach is best for most scenarios because it has inbuilt filtering support, very good performance, and requires minimal code from the developer’s end (more Pythonic). Let’s implement a file search with the Python glob module."
   ]
  },
  {
   "cell_type": "code",
   "execution_count": 53,
   "id": "789229ce",
   "metadata": {},
   "outputs": [
    {
     "name": "stdout",
     "output_type": "stream",
     "text": [
      "1 C:/Users/rani/Jupyter_Notebook_Python_Code/ Day_29_Pipeline_part_1.ipynb\n",
      "C:/Users/rani/Jupyter_Notebook_Python_Code/ Day_29_Pipeline_part_1.ipynb\n"
     ]
    }
   ],
   "source": [
    "import glob,os\n",
    "query = \"C:/Users/rani/Jupyter_Notebook_Python_Code/ Day_29_Pipeline_part_1.ipynb\"\n",
    "entries = glob.glob(query,recursive=True)\n",
    "no_of_entries  = len(entries)\n",
    "if no_of_entries==0:\n",
    "    print(\"no result\")\n",
    "else:\n",
    "    print(no_of_entries,query)\n",
    "    \n",
    "for i  in entries:\n",
    "    print(i)\n",
    "    "
   ]
  },
  {
   "cell_type": "code",
   "execution_count": 55,
   "id": "43ca9ef6",
   "metadata": {},
   "outputs": [],
   "source": [
    "my_binary_file = open(\"my_file.bin\",\"wb\")\n",
    "bytes = bytearray([80 ,121, 116 ,104, 111, 110])\n",
    "my_binary_file.write(bytes)\n",
    "my_binary_file.close()"
   ]
  },
  {
   "cell_type": "code",
   "execution_count": 56,
   "id": "c75a0bd6",
   "metadata": {},
   "outputs": [],
   "source": [
    "my_binary_file = open(\"my_file.bin\",\"rb\")\n",
    "bytes = my_binary_file.read()\n"
   ]
  },
  {
   "cell_type": "markdown",
   "id": "30ffc5b9",
   "metadata": {},
   "source": [
    "# Creating and extracting from Python archives"
   ]
  },
  {
   "cell_type": "code",
   "execution_count": 62,
   "id": "bf3b02bc",
   "metadata": {},
   "outputs": [
    {
     "data": {
      "text/plain": [
       "'C:\\\\Users\\\\rani\\\\30_Days_of_Data_Science\\\\myArchive.zip'"
      ]
     },
     "execution_count": 62,
     "metadata": {},
     "output_type": "execute_result"
    }
   ],
   "source": [
    "import shutil\n",
    "\n",
    "output_file = \"myArchive\"\n",
    "input_dir = \"MyFolder\"\n",
    "\n",
    "shutil.make_archive(output_file,\"zip\",input_dir)"
   ]
  },
  {
   "cell_type": "markdown",
   "id": "c3cd661e",
   "metadata": {},
   "source": [
    "extracting files of zip folder into new file"
   ]
  },
  {
   "cell_type": "code",
   "execution_count": 63,
   "id": "fd029ada",
   "metadata": {},
   "outputs": [],
   "source": [
    "input_file = \"myArchive.zip\"\n",
    "output_dir = \"My_new_Folder\"\n",
    "shutil.unpack_archive(input_file,output_dir)"
   ]
  },
  {
   "cell_type": "markdown",
   "id": "7905989f",
   "metadata": {},
   "source": [
    "# Copying and moving files"
   ]
  },
  {
   "cell_type": "code",
   "execution_count": 66,
   "id": "153a66f6",
   "metadata": {},
   "outputs": [
    {
     "data": {
      "text/plain": [
       "'copy_eda.ipynb'"
      ]
     },
     "execution_count": 66,
     "metadata": {},
     "output_type": "execute_result"
    }
   ],
   "source": [
    "shutil.copy(\"C:/Users/rani/Jupyter_Notebook_Python_Code/ E_D_A.ipynb\",\"copy_eda.ipynb\")"
   ]
  },
  {
   "cell_type": "code",
   "execution_count": 67,
   "id": "21fc0094",
   "metadata": {},
   "outputs": [
    {
     "data": {
      "text/plain": [
       "'MyFolder/copy_eda.ipynb'"
      ]
     },
     "execution_count": 67,
     "metadata": {},
     "output_type": "execute_result"
    }
   ],
   "source": [
    "shutil.move(\"copy_eda.ipynb\",\"MyFolder/\")"
   ]
  },
  {
   "cell_type": "code",
   "execution_count": 69,
   "id": "00a9c58c",
   "metadata": {},
   "outputs": [
    {
     "data": {
      "text/plain": [
       "'My_new_Fold/'"
      ]
     },
     "execution_count": 69,
     "metadata": {},
     "output_type": "execute_result"
    }
   ],
   "source": [
    "shutil.copytree(\"MyFolder/\",\"My_new_Fold/\")"
   ]
  },
  {
   "cell_type": "markdown",
   "id": "fd3e0621",
   "metadata": {},
   "source": [
    "# Best Practices"
   ]
  },
  {
   "cell_type": "markdown",
   "id": "3e4bd062",
   "metadata": {},
   "source": [
    "Programmers follow various coding practices. Similarly, Python programmers also follow different coding practices when they handle files.\n",
    "\n",
    "For example, some programmers use try-finally block and close file handlers manually. Some programmers let the garbage collector close the file handler by omitting the close method call — which is not a good practice. Meanwhile, other programmers use the with syntax to work with file handlers.\n",
    "\n",
    "In this section, I will summarize some best practices for file handling in Python. First, look at the following code that follows file handling best practices.\n",
    "\n",
    "def print"
   ]
  },
  {
   "cell_type": "code",
   "execution_count": 71,
   "id": "7a39bd84",
   "metadata": {},
   "outputs": [
    {
     "name": "stdout",
     "output_type": "stream",
     "text": [
      "{\n",
      " \"cells\": [\n",
      "  {\n",
      "   \"cell_type\": \"markdown\",\n",
      "   \"id\": \"03fab350\",\n",
      "   \"metadata\": {},\n",
      "   \"source\": [\n",
      "    \"# Write in File \"\n",
      "   ]\n",
      "  },\n",
      "  {\n",
      "   \"cell_type\": \"code\",\n",
      "   \"execution_count\": 1,\n",
      "   \"id\": \"dfba084c\",\n",
      "   \"metadata\": {},\n",
      "   \"outputs\": [],\n",
      "   \"source\": [\n",
      "    \"file = open(\\\"demofile.txt\\\",\\\"w\\\")\\n\",\n",
      "    \"file.write(\\\" Hello this file is created for learning purpose of file handling.\\\")\\n\",\n",
      "    \"file.close() # this will clean up resource after writing in file \"\n",
      "   ]\n",
      "  },\n",
      "  {\n",
      "   \"cell_type\": \"markdown\",\n",
      "   \"id\": \"548006dd\",\n",
      "   \"metadata\": {},\n",
      "   \"source\": [\n",
      "    \"# Read File\"\n",
      "   ]\n",
      "  },\n",
      "  {\n",
      "   \"cell_type\": \"code\",\n",
      "   \"execution_count\": 2,\n",
      "   \"id\": \"4f18c812\",\n",
      "   \"metadata\": {},\n",
      "   \"outputs\": [\n",
      "    {\n",
      "     \"name\": \"stdout\",\n",
      "     \"output_type\": \"stream\",\n",
      "     \"text\": [\n",
      "      \" Hello this file is created for learning purpose of file handling.\\n\"\n",
      "     ]\n",
      "    }\n",
      "   ],\n",
      "   \"source\": [\n",
      "    \"file = open(\\\"demofile.txt\\\",\\\"r\\\")\\n\",\n",
      "    \"print(file.read())\"\n",
      "   ]\n",
      "  },\n",
      "  {\n",
      "   \"cell_type\": \"markdown\",\n",
      "   \"id\": \"9bdd0882\",\n",
      "   \"metadata\": {},\n",
      "   \"source\": [\n",
      "    \"## Read bytes\"\n",
      "   ]\n",
      "  },\n",
      "  {\n",
      "   \"cell_type\": \"code\",\n",
      "   \"execution_count\": 3,\n",
      "   \"id\": \"01be6135\",\n",
      "   \"metadata\": {},\n",
      "   \"outputs\": [\n",
      "    {\n",
      "     \"name\": \"stdout\",\n",
      "     \"output_type\": \"stream\",\n",
      "     \"text\": [\n",
      "      \" Hello this \\n\",\n",
      "      \"file is \\n\"\n",
      "     ]\n",
      "    }\n",
      "   ],\n",
      "   \"source\": [\n",
      "    \"file = open(\\\"demofile.txt\\\",\\\"r\\\")\\n\",\n",
      "    \"print(file.read(12))\\n\",\n",
      "    \"print(file.read(8)) # we are specifying byte size\"\n",
      "   ]\n",
      "  },\n",
      "  {\n",
      "   \"cell_type\": \"markdown\",\n",
      "   \"id\": \"6872d185\",\n",
      "   \"metadata\": {},\n",
      "   \"source\": [\n",
      "    \"## Seek \"\n",
      "   ]\n",
      "  },\n",
      "  {\n",
      "   \"cell_type\": \"code\",\n",
      "   \"execution_count\": 4,\n",
      "   \"id\": \"2ead288c\",\n",
      "   \"metadata\": {},\n",
      "   \"outputs\": [\n",
      "    {\n",
      "     \"name\": \"stdout\",\n",
      "     \"output_type\": \"stream\",\n",
      "     \"text\": [\n",
      "      \" Hello this file is created \\n\",\n",
      "      \" Hello this file is created \\n\"\n",
      "     ]\n",
      "    }\n",
      "   ],\n",
      "   \"source\": [\n",
      "    \"file = open(\\\"demofile.txt\\\",\\\"r\\\")\\n\",\n",
      "    \"print(file.read(28))\\n\",\n",
      "    \"file.seek(0) # this will reset cursor back to the  begining of the file\\n\",\n",
      "    \"print(file.read(28))\"\n",
      "   ]\n",
      "  },\n",
      "  {\n",
      "   \"cell_type\": \"markdown\",\n",
      "   \"id\": \"fff202d8\",\n",
      "   \"metadata\": {},\n",
      "   \"source\": [\n",
      "    \"# Append\"\n",
      "   ]\n",
      "  },\n",
      "  {\n",
      "   \"cell_type\": \"code\",\n",
      "   \"execution_count\": 5,\n",
      "   \"id\": \"986abc82\",\n",
      "   \"metadata\": {},\n",
      "   \"outputs\": [\n",
      "    {\n",
      "     \"data\": {\n",
      "      \"text/plain\": [\n",
      "       \"24\"\n",
      "      ]\n",
      "     },\n",
      "     \"execution_count\": 5,\n",
      "     \"metadata\": {},\n",
      "     \"output_type\": \"execute_result\"\n",
      "    }\n",
      "   ],\n",
      "   \"source\": [\n",
      "    \"file = open(\\\"demofile.txt\\\",\\\"a\\\")\\n\",\n",
      "    \"file.write(\\\"my name is rani rathore.\\\") # return number of character you have appended\\n\"\n",
      "   ]\n",
      "  },\n",
      "  {\n",
      "   \"cell_type\": \"markdown\",\n",
      "   \"id\": \"6457991d\",\n",
      "   \"metadata\": {},\n",
      "   \"source\": [\n",
      "    \"The Python interpreter will return an EOL error if the quotation mark at the end of the string literal is missing. We can easily fix this problem by making sure the end quotation marks are in place\"\n",
      "   ]\n",
      "  },\n",
      "  {\n",
      "   \"cell_type\": \"markdown\",\n",
      "   \"id\": \"7f233fe4\",\n",
      "   \"metadata\": {},\n",
      "   \"source\": [\n",
      "    \"# writelines\"\n",
      "   ]\n",
      "  },\n",
      "  {\n",
      "   \"cell_type\": \"code\",\n",
      "   \"execution_count\": 42,\n",
      "   \"id\": \"a6693f3f\",\n",
      "   \"metadata\": {},\n",
      "   \"outputs\": [],\n",
      "   \"source\": [\n",
      "    \"file = open(\\\"demofile.txt\\\",\\\"a\\\")\\n\",\n",
      "    \"file.writelines(\\\"\\\\n my name is rani rathore.\\\\n my father name is dilip singh rathore. \\\\n i am good girl, with very beautifull heart. \\\\n i am in love with coding.\\\")\\n\",\n",
      "    \" \"\n",
      "   ]\n",
      "  },\n",
      "  {\n",
      "   \"cell_type\": \"markdown\",\n",
      "   \"id\": \"1b26ebf0\",\n",
      "   \"metadata\": {},\n",
      "   \"source\": [\n",
      "    \"# enumerate\"\n",
      "   ]\n",
      "  },\n",
      "  {\n",
      "   \"cell_type\": \"code\",\n",
      "   \"execution_count\": 8,\n",
      "   \"id\": \"8ee33656\",\n",
      "   \"metadata\": {},\n",
      "   \"outputs\": [\n",
      "    {\n",
      "     \"name\": \"stdout\",\n",
      "     \"output_type\": \"stream\",\n",
      "     \"text\": [\n",
      "      \"0  Hello this file is created for learning purpose of file handling.my name is rani rathore.\\n\",\n",
      "      \"\\n\",\n",
      "      \"1  my name is rani rathore.\\n\",\n",
      "      \"\\n\",\n",
      "      \"2  my father name is dilip singh rathore. \\n\",\n",
      "      \"\\n\",\n",
      "      \"3  i am good girl, with very beautifull heart. \\n\",\n",
      "      \"\\n\",\n",
      "      \"4  i am in love with coding.\\n\"\n",
      "     ]\n",
      "    }\n",
      "   ],\n",
      "   \"source\": [\n",
      "    \"file = open(\\\"demofile.txt\\\",\\\"r\\\")\\n\",\n",
      "    \"for i, line in enumerate(file.readlines()):\\n\",\n",
      "    \"    print(i, line)\"\n",
      "   ]\n",
      "  },\n",
      "  {\n",
      "   \"cell_type\": \"markdown\",\n",
      "   \"id\": \"ed40cf31\",\n",
      "   \"metadata\": {},\n",
      "   \"source\": [\n",
      "    \"# Reading File attributes in python :\\n\",\n",
      "    \"reading meta data\\n\",\n",
      "    \"\\n\",\n",
      "    \"we used st_size to get the file size, at_atime to get the last file accessed timestamp, and st_mtime to get the last modified timestamp. \"\n",
      "   ]\n",
      "  },\n",
      "  {\n",
      "   \"cell_type\": \"code\",\n",
      "   \"execution_count\": 9,\n",
      "   \"id\": \"d9b59e39\",\n",
      "   \"metadata\": {},\n",
      "   \"outputs\": [],\n",
      "   \"source\": [\n",
      "    \"import os \"\n",
      "   ]\n",
      "  },\n",
      "  {\n",
      "   \"cell_type\": \"code\",\n",
      "   \"execution_count\": 13,\n",
      "   \"id\": \"28b6a692\",\n",
      "   \"metadata\": {},\n",
      "   \"outputs\": [\n",
      "    {\n",
      "     \"name\": \"stdout\",\n",
      "     \"output_type\": \"stream\",\n",
      "     \"text\": [\n",
      "      \"<class 'int'>\\n\"\n",
      "     ]\n",
      "    }\n",
      "   ],\n",
      "   \"source\": [\n",
      "    \"stat = os.stat(\\\"demofile.txt\\\")\\n\",\n",
      "    \"print(type(stat.st_size))\"\n",
      "   ]\n",
      "  },\n",
      "  {\n",
      "   \"cell_type\": \"code\",\n",
      "   \"execution_count\": 15,\n",
      "   \"id\": \"6656ff11\",\n",
      "   \"metadata\": {},\n",
      "   \"outputs\": [\n",
      "    {\n",
      "     \"name\": \"stdout\",\n",
      "     \"output_type\": \"stream\",\n",
      "     \"text\": [\n",
      "      \"234\\n\"\n",
      "     ]\n",
      "    }\n",
      "   ],\n",
      "   \"source\": [\n",
      "    \"size = os.path.getsize(\\\"demofile.txt\\\")\\n\",\n",
      "    \"print(size)\"\n",
      "   ]\n",
      "  },\n",
      "  {\n",
      "   \"cell_type\": \"markdown\",\n",
      "   \"id\": \"0e2b2e21\",\n",
      "   \"metadata\": {},\n",
      "   \"source\": [\n",
      "    \"# creating directory in python\"\n",
      "   ]\n",
      "  },\n",
      "  {\n",
      "   \"cell_type\": \"code\",\n",
      "   \"execution_count\": 59,\n",
      "   \"id\": \"2941b8a3\",\n",
      "   \"metadata\": {},\n",
      "   \"outputs\": [],\n",
      "   \"source\": [\n",
      "    \"os.mkdir(\\\"MyFolder\\\") # this will create new folder in current directory \"\n",
      "   ]\n",
      "  },\n",
      "  {\n",
      "   \"cell_type\": \"code\",\n",
      "   \"execution_count\": 60,\n",
      "   \"id\": \"1228dc2f\",\n",
      "   \"metadata\": {},\n",
      "   \"outputs\": [],\n",
      "   \"source\": [\n",
      "    \"# with the above code we cannot create multiple directory at once it will fails for that we need to do this :\"\n",
      "   ]\n",
      "  },\n",
      "  {\n",
      "   \"cell_type\": \"code\",\n",
      "   \"execution_count\": 61,\n",
      "   \"id\": \"a628fb00\",\n",
      "   \"metadata\": {},\n",
      "   \"outputs\": [],\n",
      "   \"source\": [\n",
      "    \"os.makedirs(\\\"MyFolder/sampleDirectory\\\")\"\n",
      "   ]\n",
      "  },\n",
      "  {\n",
      "   \"cell_type\": \"markdown\",\n",
      "   \"id\": \"d03cb9e0\",\n",
      "   \"metadata\": {},\n",
      "   \"source\": [\n",
      "    \"# Reading Python directory Contents\"\n",
      "   ]\n",
      "  },\n",
      "  {\n",
      "   \"cell_type\": \"code\",\n",
      "   \"execution_count\": 20,\n",
      "   \"id\": \"82f45f87\",\n",
      "   \"metadata\": {},\n",
      "   \"outputs\": [\n",
      "    {\n",
      "     \"data\": {\n",
      "      \"text/plain\": [\n",
      "       \"'C:\\\\\\\\Users\\\\\\\\rani\\\\\\\\30_Days_of_Data_Science'\"\n",
      "      ]\n",
      "     },\n",
      "     \"execution_count\": 20,\n",
      "     \"metadata\": {},\n",
      "     \"output_type\": \"execute_result\"\n",
      "    }\n",
      "   ],\n",
      "   \"source\": [\n",
      "    \"currdir = os.getcwd() # current working directory\\n\",\n",
      "    \"currdir\"\n",
      "   ]\n",
      "  },\n",
      "  {\n",
      "   \"cell_type\": \"code\",\n",
      "   \"execution_count\": 29,\n",
      "   \"id\": \"0a2f24db\",\n",
      "   \"metadata\": {},\n",
      "   \"outputs\": [\n",
      "    {\n",
      "     \"data\": {\n",
      "      \"text/plain\": [\n",
      "       \"[' Time_Module.ipynb',\\n\",\n",
      "       \" '.ipynb_checkpoints',\\n\",\n",
      "       \" 'demofile.txt',\\n\",\n",
      "       \" 'File_Handling.ipynb',\\n\",\n",
      "       \" 'MyFolder']\"\n",
      "      ]\n",
      "     },\n",
      "     \"execution_count\": 29,\n",
      "     \"metadata\": {},\n",
      "     \"output_type\": \"execute_result\"\n",
      "    }\n",
      "   ],\n",
      "   \"source\": [\n",
      "    \"entries = os.listdir(currdir)\\n\",\n",
      "    \"entries\"\n",
      "   ]\n",
      "  },\n",
      "  {\n",
      "   \"cell_type\": \"code\",\n",
      "   \"execution_count\": 30,\n",
      "   \"id\": \"cc369c55\",\n",
      "   \"metadata\": {},\n",
      "   \"outputs\": [\n",
      "    {\n",
      "     \"name\": \"stdout\",\n",
      "     \"output_type\": \"stream\",\n",
      "     \"text\": [\n",
      "      \" Time_Module.ipynb\\n\",\n",
      "      \".ipynb_checkpoints\\n\",\n",
      "      \"demofile.txt\\n\",\n",
      "      \"File_Handling.ipynb\\n\",\n",
      "      \"MyFolder\\n\"\n",
      "     ]\n",
      "    }\n",
      "   ],\n",
      "   \"source\": [\n",
      "    \"for i in entries:\\n\",\n",
      "    \"    print(i)\"\n",
      "   ]\n",
      "  },\n",
      "  {\n",
      "   \"cell_type\": \"code\",\n",
      "   \"execution_count\": 32,\n",
      "   \"id\": \"17a739c8\",\n",
      "   \"metadata\": {\n",
      "    \"scrolled\": true\n",
      "   },\n",
      "   \"outputs\": [\n",
      "    {\n",
      "     \"name\": \"stdout\",\n",
      "     \"output_type\": \"stream\",\n",
      "     \"text\": [\n",
      "      \".\\n\",\n",
      "      \"____________________________________\\n\",\n",
      "      \".ipynb_checkpoints\\n\",\n",
      "      \"MyFolder\\n\",\n",
      "      \" Time_Module.ipynb\\n\",\n",
      "      \"demofile.txt\\n\",\n",
      "      \"File_Handling.ipynb\\n\",\n",
      "      \".ipynb_checkpoints\\n\",\n",
      "      \"____________________________________\\n\",\n",
      "      \" Time_Module-checkpoint.ipynb\\n\",\n",
      "      \"File_Handling-checkpoint.ipynb\\n\",\n",
      "      \"MyFolder\\n\",\n",
      "      \"____________________________________\\n\",\n",
      "      \"sampleDirectory\\n\",\n",
      "      \"MyFolder\\\\sampleDirectory\\n\",\n",
      "      \"____________________________________\\n\"\n",
      "     ]\n",
      "    }\n",
      "   ],\n",
      "   \"source\": [\n",
      "    \"for root, sub_dirs, files in os.walk(os.getcwd()):\\n\",\n",
      "    \"    relative_root = os.path.relpath(root)\\n\",\n",
      "    \"    print(relative_root)\\n\",\n",
      "    \"    print(\\\"____________________________________\\\")\\n\",\n",
      "    \"    for j in sub_dirs + files:\\n\",\n",
      "    \"        print(j)\"\n",
      "   ]\n",
      "  },\n",
      "  {\n",
      "   \"cell_type\": \"markdown\",\n",
      "   \"id\": \"69d9a002\",\n",
      "   \"metadata\": {},\n",
      "   \"source\": [\n",
      "    \"# Removing Files or Directories in Python\"\n",
      "   ]\n",
      "  },\n",
      "  {\n",
      "   \"cell_type\": \"code\",\n",
      "   \"execution_count\": 44,\n",
      "   \"id\": \"19e4447f\",\n",
      "   \"metadata\": {},\n",
      "   \"outputs\": [\n",
      "    {\n",
      "     \"ename\": \"PermissionError\",\n",
      "     \"evalue\": \"[WinError 32] The process cannot access the file because it is being used by another process: 'demofile.txt'\",\n",
      "     \"output_type\": \"error\",\n",
      "     \"traceback\": [\n",
      "      \"\\u001b[1;31m---------------------------------------------------------------------------\\u001b[0m\",\n",
      "      \"\\u001b[1;31mPermissionError\\u001b[0m                           Traceback (most recent call last)\",\n",
      "      \"Input \\u001b[1;32mIn [44]\\u001b[0m, in \\u001b[0;36m<cell line: 5>\\u001b[1;34m()\\u001b[0m\\n\\u001b[0;32m      3\\u001b[0m file_to_remove \\u001b[38;5;241m=\\u001b[39m \\u001b[38;5;124m\\\"\\u001b[39m\\u001b[38;5;124mdemofile.txt\\u001b[39m\\u001b[38;5;124m\\\"\\u001b[39m\\n\\u001b[0;32m      5\\u001b[0m \\u001b[38;5;28;01mif\\u001b[39;00m os\\u001b[38;5;241m.\\u001b[39mpath\\u001b[38;5;241m.\\u001b[39mexists(file_to_remove):\\n\\u001b[1;32m----> 6\\u001b[0m     \\u001b[43mos\\u001b[49m\\u001b[38;5;241;43m.\\u001b[39;49m\\u001b[43mremove\\u001b[49m\\u001b[43m(\\u001b[49m\\u001b[43mfile_to_remove\\u001b[49m\\u001b[43m)\\u001b[49m\\n\\u001b[0;32m      7\\u001b[0m \\u001b[38;5;28;01melse\\u001b[39;00m:\\n\\u001b[0;32m      8\\u001b[0m     \\u001b[38;5;28mprint\\u001b[39m(\\u001b[38;5;124m\\\"\\u001b[39m\\u001b[38;5;124mno such file\\u001b[39m\\u001b[38;5;124m\\\"\\u001b[39m)\\n\",\n",
      "      \"\\u001b[1;31mPermissionError\\u001b[0m: [WinError 32] The process cannot access the file because it is being used by another process: 'demofile.txt'\"\n",
      "     ]\n",
      "    }\n",
      "   ],\n",
      "   \"source\": [\n",
      "    \"import os\\n\",\n",
      "    \"\\n\",\n",
      "    \"file_to_remove = \\\"demofile.txt\\\"\\n\",\n",
      "    \"\\n\",\n",
      "    \"if os.path.exists(file_to_remove):\\n\",\n",
      "    \"    os.remove(file_to_remove)\\n\",\n",
      "    \"else:\\n\",\n",
      "    \"    print(\\\"no such file\\\")\"\n",
      "   ]\n",
      "  },\n",
      "  {\n",
      "   \"cell_type\": \"code\",\n",
      "   \"execution_count\": 45,\n",
      "   \"id\": \"e141a92d\",\n",
      "   \"metadata\": {},\n",
      "   \"outputs\": [\n",
      "    {\n",
      "     \"name\": \"stdout\",\n",
      "     \"output_type\": \"stream\",\n",
      "     \"text\": [\n",
      "      \"removes\\n\"\n",
      "     ]\n",
      "    }\n",
      "   ],\n",
      "   \"source\": [\n",
      "    \"import os\\n\",\n",
      "    \"\\n\",\n",
      "    \"dir_to_remove = \\\"MyFolder/\\\"\\n\",\n",
      "    \"\\n\",\n",
      "    \"if os.path.exists(dir_to_remove):\\n\",\n",
      "    \"    os.rmdir(dir_to_remove)\\n\",\n",
      "    \"    \\n\",\n",
      "    \"else:\\n\",\n",
      "    \"    print(\\\"removes\\\")\"\n",
      "   ]\n",
      "  },\n",
      "  {\n",
      "   \"cell_type\": \"code\",\n",
      "   \"execution_count\": 39,\n",
      "   \"id\": \"1020dafe\",\n",
      "   \"metadata\": {},\n",
      "   \"outputs\": [],\n",
      "   \"source\": [\n",
      "    \"import os, shutil\\n\",\n",
      "    \"\\n\",\n",
      "    \"dir_to_remove = \\\"MyFolder/\\\"\\n\",\n",
      "    \"\\n\",\n",
      "    \"if os.path.exists(dir_to_remove):\\n\",\n",
      "    \"    shutil.rmtree(dir_to_remove) # Recursively remove all entries\\n\",\n",
      "    \"else:\\n\",\n",
      "    \"    print(\\\"%s doesn't exist!\\\" % dir_to_remove)\"\n",
      "   ]\n",
      "  },\n",
      "  {\n",
      "   \"cell_type\": \"markdown\",\n",
      "   \"id\": \"1422778a\",\n",
      "   \"metadata\": {},\n",
      "   \"source\": [\n",
      "    \"# Performing File Searches in Python\"\n",
      "   ]\n",
      "  },\n",
      "  {\n",
      "   \"cell_type\": \"markdown\",\n",
      "   \"id\": \"f71ef35c\",\n",
      "   \"metadata\": {},\n",
      "   \"source\": [\n",
      "    \"* Finding all entries with the os.listdir function and checking each entry with an if condition inside a for loop\\n\",\n",
      "    \"* Finding all entries recursively with the os.walktree function and validating each entry with an if condition inside a for loop.\\n\",\n",
      "    \"* Querying all entries with the glob.glob function and obtaining only entries you need\\n\",\n",
      "    \"\\n\",\n",
      "    \"\\n\",\n",
      "    \"Overall, the third approach is best for most scenarios because it has inbuilt filtering support, very good performance, and requires minimal code from the developerâ€™s end (more Pythonic). Letâ€™s implement a file search with the Python glob module.\"\n",
      "   ]\n",
      "  },\n",
      "  {\n",
      "   \"cell_type\": \"code\",\n",
      "   \"execution_count\": 53,\n",
      "   \"id\": \"030c3c3e\",\n",
      "   \"metadata\": {},\n",
      "   \"outputs\": [\n",
      "    {\n",
      "     \"name\": \"stdout\",\n",
      "     \"output_type\": \"stream\",\n",
      "     \"text\": [\n",
      "      \"1 C:/Users/rani/Jupyter_Notebook_Python_Code/ Day_29_Pipeline_part_1.ipynb\\n\",\n",
      "      \"C:/Users/rani/Jupyter_Notebook_Python_Code/ Day_29_Pipeline_part_1.ipynb\\n\"\n",
      "     ]\n",
      "    }\n",
      "   ],\n",
      "   \"source\": [\n",
      "    \"import glob,os\\n\",\n",
      "    \"query = \\\"C:/Users/rani/Jupyter_Notebook_Python_Code/ Day_29_Pipeline_part_1.ipynb\\\"\\n\",\n",
      "    \"entries = glob.glob(query,recursive=True)\\n\",\n",
      "    \"no_of_entries  = len(entries)\\n\",\n",
      "    \"if no_of_entries==0:\\n\",\n",
      "    \"    print(\\\"no result\\\")\\n\",\n",
      "    \"else:\\n\",\n",
      "    \"    print(no_of_entries,query)\\n\",\n",
      "    \"    \\n\",\n",
      "    \"for i  in entries:\\n\",\n",
      "    \"    print(i)\\n\",\n",
      "    \"    \"\n",
      "   ]\n",
      "  },\n",
      "  {\n",
      "   \"cell_type\": \"code\",\n",
      "   \"execution_count\": 55,\n",
      "   \"id\": \"96f10033\",\n",
      "   \"metadata\": {},\n",
      "   \"outputs\": [],\n",
      "   \"source\": [\n",
      "    \"my_binary_file = open(\\\"my_file.bin\\\",\\\"wb\\\")\\n\",\n",
      "    \"bytes = bytearray([80 ,121, 116 ,104, 111, 110])\\n\",\n",
      "    \"my_binary_file.write(bytes)\\n\",\n",
      "    \"my_binary_file.close()\"\n",
      "   ]\n",
      "  },\n",
      "  {\n",
      "   \"cell_type\": \"code\",\n",
      "   \"execution_count\": 56,\n",
      "   \"id\": \"ff8bbb39\",\n",
      "   \"metadata\": {},\n",
      "   \"outputs\": [],\n",
      "   \"source\": [\n",
      "    \"my_binary_file = open(\\\"my_file.bin\\\",\\\"rb\\\")\\n\",\n",
      "    \"bytes = my_binary_file.read()\\n\"\n",
      "   ]\n",
      "  },\n",
      "  {\n",
      "   \"cell_type\": \"markdown\",\n",
      "   \"id\": \"4de53586\",\n",
      "   \"metadata\": {},\n",
      "   \"source\": [\n",
      "    \"# Creating and extracting from Python archives\"\n",
      "   ]\n",
      "  },\n",
      "  {\n",
      "   \"cell_type\": \"code\",\n",
      "   \"execution_count\": 62,\n",
      "   \"id\": \"9b5123bc\",\n",
      "   \"metadata\": {},\n",
      "   \"outputs\": [\n",
      "    {\n",
      "     \"data\": {\n",
      "      \"text/plain\": [\n",
      "       \"'C:\\\\\\\\Users\\\\\\\\rani\\\\\\\\30_Days_of_Data_Science\\\\\\\\myArchive.zip'\"\n",
      "      ]\n",
      "     },\n",
      "     \"execution_count\": 62,\n",
      "     \"metadata\": {},\n",
      "     \"output_type\": \"execute_result\"\n",
      "    }\n",
      "   ],\n",
      "   \"source\": [\n",
      "    \"import shutil\\n\",\n",
      "    \"\\n\",\n",
      "    \"output_file = \\\"myArchive\\\"\\n\",\n",
      "    \"input_dir = \\\"MyFolder\\\"\\n\",\n",
      "    \"\\n\",\n",
      "    \"shutil.make_archive(output_file,\\\"zip\\\",input_dir)\"\n",
      "   ]\n",
      "  },\n",
      "  {\n",
      "   \"cell_type\": \"markdown\",\n",
      "   \"id\": \"28f68e95\",\n",
      "   \"metadata\": {},\n",
      "   \"source\": [\n",
      "    \"extracting files of zip folder into new file\"\n",
      "   ]\n",
      "  },\n",
      "  {\n",
      "   \"cell_type\": \"code\",\n",
      "   \"execution_count\": 63,\n",
      "   \"id\": \"3a95f161\",\n",
      "   \"metadata\": {},\n",
      "   \"outputs\": [],\n",
      "   \"source\": [\n",
      "    \"input_file = \\\"myArchive.zip\\\"\\n\",\n",
      "    \"output_dir = \\\"My_new_Folder\\\"\\n\",\n",
      "    \"shutil.unpack_archive(input_file,output_dir)\"\n",
      "   ]\n",
      "  },\n",
      "  {\n",
      "   \"cell_type\": \"markdown\",\n",
      "   \"id\": \"827902e9\",\n",
      "   \"metadata\": {},\n",
      "   \"source\": [\n",
      "    \"# Copying and moving files\"\n",
      "   ]\n",
      "  },\n",
      "  {\n",
      "   \"cell_type\": \"code\",\n",
      "   \"execution_count\": 66,\n",
      "   \"id\": \"3d0909cb\",\n",
      "   \"metadata\": {},\n",
      "   \"outputs\": [\n",
      "    {\n",
      "     \"data\": {\n",
      "      \"text/plain\": [\n",
      "       \"'copy_eda.ipynb'\"\n",
      "      ]\n",
      "     },\n",
      "     \"execution_count\": 66,\n",
      "     \"metadata\": {},\n",
      "     \"output_type\": \"execute_result\"\n",
      "    }\n",
      "   ],\n",
      "   \"source\": [\n",
      "    \"shutil.copy(\\\"C:/Users/rani/Jupyter_Notebook_Python_Code/ E_D_A.ipynb\\\",\\\"copy_eda.ipynb\\\")\"\n",
      "   ]\n",
      "  },\n",
      "  {\n",
      "   \"cell_type\": \"code\",\n",
      "   \"execution_count\": 67,\n",
      "   \"id\": \"f4fb6583\",\n",
      "   \"metadata\": {},\n",
      "   \"outputs\": [\n",
      "    {\n",
      "     \"data\": {\n",
      "      \"text/plain\": [\n",
      "       \"'MyFolder/copy_eda.ipynb'\"\n",
      "      ]\n",
      "     },\n",
      "     \"execution_count\": 67,\n",
      "     \"metadata\": {},\n",
      "     \"output_type\": \"execute_result\"\n",
      "    }\n",
      "   ],\n",
      "   \"source\": [\n",
      "    \"shutil.move(\\\"copy_eda.ipynb\\\",\\\"MyFolder/\\\")\"\n",
      "   ]\n",
      "  },\n",
      "  {\n",
      "   \"cell_type\": \"code\",\n",
      "   \"execution_count\": 69,\n",
      "   \"id\": \"1ced8b00\",\n",
      "   \"metadata\": {},\n",
      "   \"outputs\": [\n",
      "    {\n",
      "     \"data\": {\n",
      "      \"text/plain\": [\n",
      "       \"'My_new_Fold/'\"\n",
      "      ]\n",
      "     },\n",
      "     \"execution_count\": 69,\n",
      "     \"metadata\": {},\n",
      "     \"output_type\": \"execute_result\"\n",
      "    }\n",
      "   ],\n",
      "   \"source\": [\n",
      "    \"shutil.copytree(\\\"MyFolder/\\\",\\\"My_new_Fold/\\\")\"\n",
      "   ]\n",
      "  },\n",
      "  {\n",
      "   \"cell_type\": \"markdown\",\n",
      "   \"id\": \"407f15cd\",\n",
      "   \"metadata\": {},\n",
      "   \"source\": [\n",
      "    \"# Best Practices\"\n",
      "   ]\n",
      "  },\n",
      "  {\n",
      "   \"cell_type\": \"markdown\",\n",
      "   \"id\": \"341f6295\",\n",
      "   \"metadata\": {},\n",
      "   \"source\": [\n",
      "    \"Programmers follow various coding practices. Similarly, Python programmers also follow different coding practices when they handle files.\\n\",\n",
      "    \"\\n\",\n",
      "    \"For example, some programmers use try-finally block and close file handlers manually. Some programmers let the garbage collector close the file handler by omitting the close method call â€” which is not a good practice. Meanwhile, other programmers use the with syntax to work with file handlers.\\n\",\n",
      "    \"\\n\",\n",
      "    \"In this section, I will summarize some best practices for file handling in Python. First, look at the following code that follows file handling best practices.\\n\",\n",
      "    \"\\n\",\n",
      "    \"def print\"\n",
      "   ]\n",
      "  },\n",
      "  {\n",
      "   \"cell_type\": \"code\",\n",
      "   \"execution_count\": null,\n",
      "   \"id\": \"75c190f1\",\n",
      "   \"metadata\": {},\n",
      "   \"outputs\": [],\n",
      "   \"source\": [\n",
      "    \"def print_file_content(filename):\\n\",\n",
      "    \"    with open(filename) as f:\\n\",\n",
      "    \"        content = f.read()\\n\",\n",
      "    \"        print(content)\\n\",\n",
      "    \"\\n\",\n",
      "    \"file_to_read = \\\"File_Handling.ipynb\\\"\\n\",\n",
      "    \"\\n\",\n",
      "    \"try:\\n\",\n",
      "    \"    print_file_content(file_to_read)\\n\",\n",
      "    \"except:\\n\",\n",
      "    \"    \"\n",
      "   ]\n",
      "  }\n",
      " ],\n",
      " \"metadata\": {\n",
      "  \"kernelspec\": {\n",
      "   \"display_name\": \"Python 3 (ipykernel)\",\n",
      "   \"language\": \"python\",\n",
      "   \"name\": \"python3\"\n",
      "  },\n",
      "  \"language_info\": {\n",
      "   \"codemirror_mode\": {\n",
      "    \"name\": \"ipython\",\n",
      "    \"version\": 3\n",
      "   },\n",
      "   \"file_extension\": \".py\",\n",
      "   \"mimetype\": \"text/x-python\",\n",
      "   \"name\": \"python\",\n",
      "   \"nbconvert_exporter\": \"python\",\n",
      "   \"pygments_lexer\": \"ipython3\",\n",
      "   \"version\": \"3.9.7\"\n",
      "  }\n",
      " },\n",
      " \"nbformat\": 4,\n",
      " \"nbformat_minor\": 5\n",
      "}\n",
      "\n",
      "succesfully File_Handling.ipynb\n"
     ]
    }
   ],
   "source": [
    "def print_file_content(filename):\n",
    "    with open(filename) as f:\n",
    "        content = f.read()\n",
    "        print(content)\n",
    "\n",
    "file_to_read = \"File_Handling.ipynb\"\n",
    "\n",
    "try:\n",
    "    print_file_content(file_to_read)\n",
    "except:\n",
    "    print(\"unable to open file\")\n",
    "else:\n",
    "    print(\"succesfully %s\" %file_to_read)"
   ]
  },
  {
   "cell_type": "markdown",
   "id": "158b8fb1",
   "metadata": {},
   "source": [
    "Here, we used the with keyword to implicitly close the file handler. Also, we handle possible exceptions with a try-except block. While you are working with Python file handling, may sure that your code has the following points.\n",
    "\n",
    "* Never ignore exceptions   —  especially with long-running Python processes. However, it’s okay to ignore exceptions for simple utility scripts because unhandled exceptions halt utility scripts from continuing further\n",
    "* If you are not using the with syntax, make sure to close opened file handlers properly. The Python garbage collector will clean the unclosed file handlers, but it’s always good to close a file handler via our code to avoid unwanted resource usages\n",
    "* Make sure to unify file handling syntaxes in your codebase. For example, if you use with keyword for handling files, make sure to use the same syntax for all places where you are handling file\n",
    "* Avoid reopening the same file again when you read or write with multiple handlers. Instead, use the flush and seek methods, as shown below:\n"
   ]
  },
  {
   "cell_type": "code",
   "execution_count": 72,
   "id": "a14b6d7a",
   "metadata": {},
   "outputs": [
    {
     "name": "stdout",
     "output_type": "stream",
     "text": [
      "cursor position  63\n",
      "cursor position  0\n",
      "create a new file or if already exits then write into that file\n",
      "cursor position  63\n",
      "Successfully processed file.txt\n"
     ]
    }
   ],
   "source": [
    "def process_file(File_name):\n",
    "    with open(File_name,\"+w\") as file:\n",
    "        \n",
    "        file.write(\"create a new file or if already exits then write into that file\")\n",
    "        print(\"cursor position \",file.tell())\n",
    "        \n",
    "        #reset internal buffer\n",
    "        file.flush()\n",
    "        \n",
    "        # set cursor to the begining \n",
    "        file.seek(0)\n",
    "        print(\"cursor position \",file.tell())\n",
    "        \n",
    "        #print content\n",
    "        content = file.read()\n",
    "        print(content)\n",
    "        print(\"cursor position \",file.tell())\n",
    "        \n",
    "file_to_read = \"file.txt\"\n",
    "\n",
    "try:\n",
    "    process_file(file_to_read)\n",
    "except:\n",
    "    print(\"Unable to process file %s \" % file_to_read)\n",
    "else:\n",
    "    print(\"Successfully processed %s\" % file_to_read)\n",
    "    \n",
    "        "
   ]
  },
  {
   "cell_type": "markdown",
   "id": "9376c7e6",
   "metadata": {},
   "source": [
    "The above content saves a string to the file first. After that, it reads the newly added content again by resetting the internal buffer. The flush method clears the temporarily saved data in memory, so the next read will return the newly added content. Also, we need to use the seek(0) method call to reset the cursor to the beginning because the write method sets it to the end."
   ]
  },
  {
   "cell_type": "code",
   "execution_count": null,
   "id": "dd77f470",
   "metadata": {},
   "outputs": [],
   "source": []
  }
 ],
 "metadata": {
  "kernelspec": {
   "display_name": "Python 3 (ipykernel)",
   "language": "python",
   "name": "python3"
  },
  "language_info": {
   "codemirror_mode": {
    "name": "ipython",
    "version": 3
   },
   "file_extension": ".py",
   "mimetype": "text/x-python",
   "name": "python",
   "nbconvert_exporter": "python",
   "pygments_lexer": "ipython3",
   "version": "3.9.7"
  }
 },
 "nbformat": 4,
 "nbformat_minor": 5
}
