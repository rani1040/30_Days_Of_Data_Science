{
 "cells": [
  {
   "cell_type": "markdown",
   "id": "e9e68f39",
   "metadata": {},
   "source": [
    "* BaseException\n",
    "    * SystemExit\n",
    "    * KeyboardInterrupt\n",
    "    * GeneratorExit\n",
    "    * Exception\n",
    "         * StopIteration\n",
    "         * StopAsyncIteration\n",
    "         * ArithmeticError\n",
    "             * FloatingPointError\n",
    "             * OverflowError\n",
    "             * ZeroDivisionError\n",
    "          * AssertionError\n",
    "          * AttributeError\n",
    "          * BufferError\n",
    "          * EOFError\n",
    "      * ImportError\n",
    "      * ModuleNotFoundError\n",
    "      * LookupError\n",
    "          * IndexError\n",
    "          * KeyError\n",
    "      * MemoryError\n",
    "      * NameError\n",
    "          * UnboundLocalError\n",
    "      +-- OSError\n",
    "      |    +-- BlockingIOError\n",
    "      |    +-- ChildProcessError\n",
    "      |    +-- ConnectionError\n",
    "      |    |    +-- BrokenPipeError\n",
    "      |    |    +-- ConnectionAbortedError\n",
    "      |    |    +-- ConnectionRefusedError\n",
    "      |    |    +-- ConnectionResetError\n",
    "      |    +-- FileExistsError\n",
    "      |    +-- FileNotFoundError\n",
    "      |    +-- InterruptedError\n",
    "      |    +-- IsADirectoryError\n",
    "      |    +-- NotADirectoryError\n",
    "      |    +-- PermissionError\n",
    "      |    +-- ProcessLookupError\n",
    "      |    +-- TimeoutError\n",
    "      +-- ReferenceError\n",
    "      +-- RuntimeError\n",
    "      |    +-- NotImplementedError\n",
    "      |    +-- RecursionError\n",
    "      +-- SyntaxError\n",
    "      |    +-- IndentationError\n",
    "      |         +-- TabError\n",
    "      +-- SystemError\n",
    "      +-- TypeError\n",
    "      +-- ValueError\n",
    "      |    +-- UnicodeError\n",
    "      |         +-- UnicodeDecodeError\n",
    "      |         +-- UnicodeEncodeError\n",
    "      |         +-- UnicodeTranslateError\n",
    "      * Warning\n",
    "         * DeprecationWarning\n",
    "         * PendingDeprecationWarning\n",
    "         * RuntimeWarning\n",
    "         * SyntaxWarning\n",
    "         * UserWarning\n",
    "         * FutureWarning\n",
    "         * ImportWarning\n",
    "         * UnicodeWarning\n",
    "         * BytesWarning\n",
    "         * ResourceWarning\n"
   ]
  },
  {
   "cell_type": "markdown",
   "id": "c5bb2e86",
   "metadata": {},
   "source": [
    "this all the exception hierarchy , if we get an error there might some exception due to which we are getting this"
   ]
  },
  {
   "cell_type": "markdown",
   "id": "035837d6",
   "metadata": {},
   "source": [
    "### Q1) Ask the user for an integer between 1 and 10 (inclusive). If the number they give is outside of the specified range, raise a ValueError and inform them that their choice was invalid."
   ]
  },
  {
   "cell_type": "code",
   "execution_count": null,
   "id": "49b0e506",
   "metadata": {},
   "outputs": [],
   "source": []
  },
  {
   "cell_type": "markdown",
   "id": "41fa2ba0",
   "metadata": {},
   "source": [
    "### Q2.)  Below you'll find a divide function. Write exception handling so that we catch ZeroDivisionError exceptions, TypeError exceptions, and other kinds of ArithmeticError."
   ]
  },
  {
   "cell_type": "code",
   "execution_count": 16,
   "id": "d2ad72d9",
   "metadata": {},
   "outputs": [
    {
     "name": "stdout",
     "output_type": "stream",
     "text": [
      "0.6741573033707865\n"
     ]
    }
   ],
   "source": [
    "def divide(a, b):\n",
    "    try :\n",
    "        print(a / b)\n",
    "    except ZeroDivisionError:\n",
    "        print(\"you cannot divide number by 0\")\n",
    "    except TypeError:\n",
    "        print(\"please input numeric value\")\n",
    "    except ArithmeticError:\n",
    "        print(\"Arithemetic Error\")\n",
    "    \n",
    "    \n",
    "divide(6,)"
   ]
  },
  {
   "cell_type": "markdown",
   "id": "8e95dce4",
   "metadata": {},
   "source": [
    "### Q3) Below you'll find an itemgetter function that takes in a collection, and either a key or index. Catch any instances of KeyError or IndexError, and write the exception to a file called log.txt, along with the arguments that caused this issue. Once you have written to the log file, reraise the original exception."
   ]
  },
  {
   "cell_type": "code",
   "execution_count": 20,
   "id": "2c7cc738",
   "metadata": {},
   "outputs": [],
   "source": [
    "def itemgetter(collection, identifier):\n",
    "    try :\n",
    "        return collection[identifier]\n",
    "    except IndexError as ex:\n",
    "        print(ex)\n",
    "    except KeyError as ex:\n",
    "        print(ex)"
   ]
  },
  {
   "cell_type": "markdown",
   "id": "30f98bb0",
   "metadata": {},
   "source": [
    "Note that by adding as ex, you bind the exception object to the name e available in your except clause.\n",
    "\n"
   ]
  },
  {
   "cell_type": "code",
   "execution_count": 21,
   "id": "59e723e1",
   "metadata": {},
   "outputs": [
    {
     "name": "stdout",
     "output_type": "stream",
     "text": [
      "list index out of range\n"
     ]
    }
   ],
   "source": [
    "arr=[1,23,3]\n",
    "itemgetter(arr,4)"
   ]
  },
  {
   "cell_type": "markdown",
   "id": "637b2cee",
   "metadata": {},
   "source": [
    "# Status Codes vs Exception"
   ]
  },
  {
   "cell_type": "markdown",
   "id": "1aaeb305",
   "metadata": {},
   "source": [
    "* exception are the object of class hierachy .\n",
    "* We can dervire serveral exception from BaseException.\n",
    "* raise is a subclass of Exception."
   ]
  },
  {
   "cell_type": "code",
   "execution_count": 28,
   "id": "248beb5d",
   "metadata": {},
   "outputs": [
    {
     "ename": "Exception",
     "evalue": "Ummm... something is wrong",
     "output_type": "error",
     "traceback": [
      "\u001b[1;31m---------------------------------------------------------------------------\u001b[0m",
      "\u001b[1;31mException\u001b[0m                                 Traceback (most recent call last)",
      "Input \u001b[1;32mIn [28]\u001b[0m, in \u001b[0;36m<cell line: 2>\u001b[1;34m()\u001b[0m\n\u001b[0;32m      1\u001b[0m \u001b[38;5;66;03m# Raise an instance of the Exception class itself\u001b[39;00m\n\u001b[1;32m----> 2\u001b[0m \u001b[38;5;28;01mraise\u001b[39;00m \u001b[38;5;167;01mException\u001b[39;00m(\u001b[38;5;124m'\u001b[39m\u001b[38;5;124mUmmm... something is wrong\u001b[39m\u001b[38;5;124m'\u001b[39m)\n\u001b[0;32m      4\u001b[0m \u001b[38;5;66;03m# # Raise an instance of the RuntimeError class\u001b[39;00m\n\u001b[0;32m      5\u001b[0m \u001b[38;5;66;03m# raise RuntimeError('Ummm... something is wrong')\u001b[39;00m\n\u001b[0;32m      6\u001b[0m  \n\u001b[0;32m      7\u001b[0m \u001b[38;5;66;03m# Raise a custom subclass of Exception that keeps the timestamp the exception was created\u001b[39;00m\n\u001b[0;32m      8\u001b[0m \u001b[38;5;28;01mfrom\u001b[39;00m \u001b[38;5;21;01mdatetime\u001b[39;00m \u001b[38;5;28;01mimport\u001b[39;00m datetime\n",
      "\u001b[1;31mException\u001b[0m: Ummm... something is wrong"
     ]
    }
   ],
   "source": [
    "# Raise an instance of the Exception class itself\n",
    "raise Exception('Ummm... something is wrong')\n",
    " \n",
    "# # Raise an instance of the RuntimeError class\n",
    "# raise RuntimeError('Ummm... something is wrong')\n",
    " \n",
    "# Raise a custom subclass of Exception that keeps the timestamp the exception was created\n",
    "from datetime import datetime\n",
    " \n",
    "class SuperError(Exception):\n",
    "    def __init__(self, message):\n",
    "        Exception.__init__(message)\n",
    "        self.when = datetime.now()\n",
    "SuperError(\"error\")"
   ]
  },
  {
   "cell_type": "markdown",
   "id": "c4835531",
   "metadata": {},
   "source": [
    "* When you catch an exception, you have three options:\n",
    "    * Swallow it quietly (handle it and keep running).\n",
    "    * Do something like logging, but raise the same exception again to let higher levels handle it.\n",
    "    * Raise a different exception instead of the original."
   ]
  },
  {
   "cell_type": "code",
   "execution_count": 36,
   "id": "67892e96",
   "metadata": {},
   "outputs": [],
   "source": [
    " "
   ]
  },
  {
   "cell_type": "code",
   "execution_count": null,
   "id": "aa8d1f28",
   "metadata": {},
   "outputs": [],
   "source": [
    " "
   ]
  },
  {
   "cell_type": "code",
   "execution_count": 43,
   "id": "5d60c7c9",
   "metadata": {},
   "outputs": [
    {
     "ename": "TypeError",
     "evalue": "'int' object is not callable",
     "output_type": "error",
     "traceback": [
      "\u001b[1;31m---------------------------------------------------------------------------\u001b[0m",
      "\u001b[1;31mTypeError\u001b[0m                                 Traceback (most recent call last)",
      "Input \u001b[1;32mIn [43]\u001b[0m, in \u001b[0;36m<cell line: 3>\u001b[1;34m()\u001b[0m\n\u001b[0;32m      1\u001b[0m \u001b[38;5;28;01mdef\u001b[39;00m \u001b[38;5;21minvoke_function\u001b[39m(func, \u001b[38;5;241m*\u001b[39margs, \u001b[38;5;241m*\u001b[39m\u001b[38;5;241m*\u001b[39mkwargs):\n\u001b[0;32m      2\u001b[0m     \u001b[38;5;28;01mreturn\u001b[39;00m func(\u001b[38;5;241m*\u001b[39margs, \u001b[38;5;241m*\u001b[39m\u001b[38;5;241m*\u001b[39mkwargs)\n\u001b[1;32m----> 3\u001b[0m \u001b[43minvoke_function\u001b[49m\u001b[43m(\u001b[49m\u001b[43mitemgetter\u001b[49m\u001b[43m(\u001b[49m\u001b[43marr\u001b[49m\u001b[43m,\u001b[49m\u001b[38;5;241;43m0\u001b[39;49m\u001b[43m)\u001b[49m\u001b[43m)\u001b[49m\n",
      "Input \u001b[1;32mIn [43]\u001b[0m, in \u001b[0;36minvoke_function\u001b[1;34m(func, *args, **kwargs)\u001b[0m\n\u001b[0;32m      1\u001b[0m \u001b[38;5;28;01mdef\u001b[39;00m \u001b[38;5;21minvoke_function\u001b[39m(func, \u001b[38;5;241m*\u001b[39margs, \u001b[38;5;241m*\u001b[39m\u001b[38;5;241m*\u001b[39mkwargs):\n\u001b[1;32m----> 2\u001b[0m     \u001b[38;5;28;01mreturn\u001b[39;00m func(\u001b[38;5;241m*\u001b[39margs, \u001b[38;5;241m*\u001b[39m\u001b[38;5;241m*\u001b[39mkwargs)\n",
      "\u001b[1;31mTypeError\u001b[0m: 'int' object is not callable"
     ]
    }
   ],
   "source": [
    "def invoke_function(func, *args, **kwargs):\n",
    "    return func(*args, **kwargs)\n",
    "invoke_function(itemgetter(arr,0))   "
   ]
  },
  {
   "cell_type": "code",
   "execution_count": 44,
   "id": "81dc50b3",
   "metadata": {},
   "outputs": [
    {
     "name": "stdout",
     "output_type": "stream",
     "text": [
      "<class 'TypeError'>\n"
     ]
    }
   ],
   "source": [
    "def invoke_function(func, *args, **kwargs):\n",
    "    try:\n",
    "        return func(*args, **kwargs)\n",
    "    except Exception as e:\n",
    "        print(type(e))\n",
    "invoke_function(itemgetter(arr,0)) "
   ]
  },
  {
   "cell_type": "code",
   "execution_count": 46,
   "id": "f8d7a507",
   "metadata": {},
   "outputs": [
    {
     "name": "stdout",
     "output_type": "stream",
     "text": [
      "<class 'TypeError'>\n"
     ]
    },
    {
     "ename": "ValueError",
     "evalue": "hu",
     "output_type": "error",
     "traceback": [
      "\u001b[1;31m---------------------------------------------------------------------------\u001b[0m",
      "\u001b[1;31mTypeError\u001b[0m                                 Traceback (most recent call last)",
      "Input \u001b[1;32mIn [46]\u001b[0m, in \u001b[0;36minvoke_function\u001b[1;34m(func, *args, **kwargs)\u001b[0m\n\u001b[0;32m      2\u001b[0m \u001b[38;5;28;01mtry\u001b[39;00m:\n\u001b[1;32m----> 3\u001b[0m     \u001b[38;5;28;01mreturn\u001b[39;00m func(\u001b[38;5;241m*\u001b[39margs, \u001b[38;5;241m*\u001b[39m\u001b[38;5;241m*\u001b[39mkwargs)\n\u001b[0;32m      4\u001b[0m \u001b[38;5;28;01mexcept\u001b[39;00m \u001b[38;5;167;01mException\u001b[39;00m \u001b[38;5;28;01mas\u001b[39;00m e:\n",
      "\u001b[1;31mTypeError\u001b[0m: 'int' object is not callable",
      "\nDuring handling of the above exception, another exception occurred:\n",
      "\u001b[1;31mValueError\u001b[0m                                Traceback (most recent call last)",
      "Input \u001b[1;32mIn [46]\u001b[0m, in \u001b[0;36m<cell line: 7>\u001b[1;34m()\u001b[0m\n\u001b[0;32m      5\u001b[0m         \u001b[38;5;28mprint\u001b[39m(\u001b[38;5;28mtype\u001b[39m(e))\n\u001b[0;32m      6\u001b[0m         \u001b[38;5;28;01mraise\u001b[39;00m \u001b[38;5;167;01mValueError\u001b[39;00m(\u001b[38;5;124m\"\u001b[39m\u001b[38;5;124mhu\u001b[39m\u001b[38;5;124m\"\u001b[39m)\n\u001b[1;32m----> 7\u001b[0m \u001b[43minvoke_function\u001b[49m\u001b[43m(\u001b[49m\u001b[43mitemgetter\u001b[49m\u001b[43m(\u001b[49m\u001b[43marr\u001b[49m\u001b[43m,\u001b[49m\u001b[38;5;241;43m0\u001b[39;49m\u001b[43m)\u001b[49m\u001b[43m)\u001b[49m\n",
      "Input \u001b[1;32mIn [46]\u001b[0m, in \u001b[0;36minvoke_function\u001b[1;34m(func, *args, **kwargs)\u001b[0m\n\u001b[0;32m      4\u001b[0m \u001b[38;5;28;01mexcept\u001b[39;00m \u001b[38;5;167;01mException\u001b[39;00m \u001b[38;5;28;01mas\u001b[39;00m e:\n\u001b[0;32m      5\u001b[0m     \u001b[38;5;28mprint\u001b[39m(\u001b[38;5;28mtype\u001b[39m(e))\n\u001b[1;32m----> 6\u001b[0m     \u001b[38;5;28;01mraise\u001b[39;00m \u001b[38;5;167;01mValueError\u001b[39;00m(\u001b[38;5;124m\"\u001b[39m\u001b[38;5;124mhu\u001b[39m\u001b[38;5;124m\"\u001b[39m)\n",
      "\u001b[1;31mValueError\u001b[0m: hu"
     ]
    }
   ],
   "source": [
    "def invoke_function(func, *args, **kwargs):\n",
    "    try:\n",
    "        return func(*args, **kwargs)\n",
    "    except Exception as e:\n",
    "        print(type(e))\n",
    "        raise  \n",
    "invoke_function(itemgetter(arr,0)) "
   ]
  },
  {
   "cell_type": "code",
   "execution_count": 47,
   "id": "c2b563dd",
   "metadata": {},
   "outputs": [],
   "source": [
    "def fetch_some_data():\n",
    "    db = None\n",
    "    try:\n",
    "        db = open_db_connection()\n",
    "        query(db)\n",
    "    finally:\n",
    "        if db is not None:\n",
    "            close_db_connection(db)"
   ]
  },
  {
   "cell_type": "markdown",
   "id": "ac536cc0",
   "metadata": {},
   "source": [
    "Context managers provide another mechanism to wrap resources like files or DB connections in cleanup code that executes automatically even when exceptions have been raised. Instead of try-finally blocks, you use the with statement. Here is an example with a file:"
   ]
  },
  {
   "cell_type": "code",
   "execution_count": 67,
   "id": "a5c96589",
   "metadata": {},
   "outputs": [
    {
     "ename": "NameError",
     "evalue": "name 'flaky_func' is not defined",
     "output_type": "error",
     "traceback": [
      "\u001b[1;31m---------------------------------------------------------------------------\u001b[0m",
      "\u001b[1;31mNameError\u001b[0m                                 Traceback (most recent call last)",
      "Input \u001b[1;32mIn [67]\u001b[0m, in \u001b[0;36m<cell line: 8>\u001b[1;34m()\u001b[0m\n\u001b[0;32m      6\u001b[0m     \u001b[38;5;28;01mexcept\u001b[39;00m \u001b[38;5;167;01mException\u001b[39;00m:\n\u001b[0;32m      7\u001b[0m         \u001b[38;5;28;01mraise\u001b[39;00m\n\u001b[1;32m----> 8\u001b[0m \u001b[43mf\u001b[49m\u001b[43m(\u001b[49m\u001b[43m)\u001b[49m\n",
      "Input \u001b[1;32mIn [67]\u001b[0m, in \u001b[0;36mf\u001b[1;34m()\u001b[0m\n\u001b[0;32m      3\u001b[0m \u001b[38;5;28;01mdef\u001b[39;00m \u001b[38;5;21mf\u001b[39m():\n\u001b[0;32m      4\u001b[0m     \u001b[38;5;28;01mtry\u001b[39;00m:\n\u001b[1;32m----> 5\u001b[0m         \u001b[43mflaky_func\u001b[49m()\n\u001b[0;32m      6\u001b[0m     \u001b[38;5;28;01mexcept\u001b[39;00m \u001b[38;5;167;01mException\u001b[39;00m:\n\u001b[0;32m      7\u001b[0m         \u001b[38;5;28;01mraise\u001b[39;00m\n",
      "\u001b[1;31mNameError\u001b[0m: name 'flaky_func' is not defined"
     ]
    }
   ],
   "source": [
    "import logging\n",
    "logger = logging.getLogger()\n",
    "def f():\n",
    "    try:\n",
    "        flaky_func()\n",
    "    except Exception:\n",
    "        raise\n",
    "f()   "
   ]
  },
  {
   "cell_type": "code",
   "execution_count": 69,
   "id": "95db1e2a",
   "metadata": {},
   "outputs": [
    {
     "ename": "TypeError",
     "evalue": "exception() missing 1 required positional argument: 'msg'",
     "output_type": "error",
     "traceback": [
      "\u001b[1;31m---------------------------------------------------------------------------\u001b[0m",
      "\u001b[1;31mNameError\u001b[0m                                 Traceback (most recent call last)",
      "Input \u001b[1;32mIn [69]\u001b[0m, in \u001b[0;36mf\u001b[1;34m()\u001b[0m\n\u001b[0;32m      5\u001b[0m \u001b[38;5;28;01mtry\u001b[39;00m:\n\u001b[1;32m----> 6\u001b[0m     \u001b[43mflaky_func\u001b[49m()\n\u001b[0;32m      7\u001b[0m \u001b[38;5;28;01mexcept\u001b[39;00m \u001b[38;5;167;01mException\u001b[39;00m:\n",
      "\u001b[1;31mNameError\u001b[0m: name 'flaky_func' is not defined",
      "\nDuring handling of the above exception, another exception occurred:\n",
      "\u001b[1;31mTypeError\u001b[0m                                 Traceback (most recent call last)",
      "Input \u001b[1;32mIn [69]\u001b[0m, in \u001b[0;36m<cell line: 10>\u001b[1;34m()\u001b[0m\n\u001b[0;32m      8\u001b[0m         logger\u001b[38;5;241m.\u001b[39mexception()\n\u001b[0;32m      9\u001b[0m         \u001b[38;5;28;01mraise\u001b[39;00m\n\u001b[1;32m---> 10\u001b[0m \u001b[43mf\u001b[49m\u001b[43m(\u001b[49m\u001b[43m)\u001b[49m\n",
      "Input \u001b[1;32mIn [69]\u001b[0m, in \u001b[0;36mf\u001b[1;34m()\u001b[0m\n\u001b[0;32m      6\u001b[0m     flaky_func()\n\u001b[0;32m      7\u001b[0m \u001b[38;5;28;01mexcept\u001b[39;00m \u001b[38;5;167;01mException\u001b[39;00m:\n\u001b[1;32m----> 8\u001b[0m     \u001b[43mlogger\u001b[49m\u001b[38;5;241;43m.\u001b[39;49m\u001b[43mexception\u001b[49m\u001b[43m(\u001b[49m\u001b[43m)\u001b[49m\n\u001b[0;32m      9\u001b[0m     \u001b[38;5;28;01mraise\u001b[39;00m\n",
      "\u001b[1;31mTypeError\u001b[0m: exception() missing 1 required positional argument: 'msg'"
     ]
    }
   ],
   "source": [
    "import logging\n",
    "logger = logging.getLogger()\n",
    " \n",
    "def f():\n",
    "    try:\n",
    "        flaky_func()\n",
    "    except Exception:\n",
    "        logger.exception()\n",
    "        raise\n",
    "f()"
   ]
  },
  {
   "cell_type": "code",
   "execution_count": null,
   "id": "c3f9e9be",
   "metadata": {},
   "outputs": [],
   "source": []
  },
  {
   "cell_type": "code",
   "execution_count": null,
   "id": "d2b6ccbf",
   "metadata": {},
   "outputs": [],
   "source": []
  },
  {
   "cell_type": "code",
   "execution_count": null,
   "id": "50bed9dd",
   "metadata": {},
   "outputs": [],
   "source": []
  }
 ],
 "metadata": {
  "kernelspec": {
   "display_name": "Python 3 (ipykernel)",
   "language": "python",
   "name": "python3"
  },
  "language_info": {
   "codemirror_mode": {
    "name": "ipython",
    "version": 3
   },
   "file_extension": ".py",
   "mimetype": "text/x-python",
   "name": "python",
   "nbconvert_exporter": "python",
   "pygments_lexer": "ipython3",
   "version": "3.9.7"
  }
 },
 "nbformat": 4,
 "nbformat_minor": 5
}
